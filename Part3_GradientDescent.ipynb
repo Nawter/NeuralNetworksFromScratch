{
 "cells": [
  {
   "cell_type": "markdown",
   "metadata": {},
   "source": [
    "| Code Symbol | Math Symbol | Definition                         | Dimensions                         |\n",
    "|-------------|-------------|------------------------------------|------------------------------------|\n",
    "| I           | $$I$$       | Input Data, each row in an example | (numExamples, inputLayerSize)      |\n",
    "| j           | $$j$$       | target data                        | (numExamples, outputLayerSize)     |\n",
    "| W1          | $$W^{(1)}$$ | Layer 1 weights                    | (inputLayerSize, hiddenLayerSize)  |\n",
    "| W2          | $$W^{(2)}$$ | Layer 2 weights                    | (hiddenLayerSize, outputLayerSize) |\n",
    "| z2          | $$z^{(2)}$$ | Layer 2 activation                 | (numExamples, hiddenLayerSize)     |\n",
    "| a2          | $$a^{(2)}$$ | Layer 2 activity                   | (numExamples, hiddenLayerSize)     |\n",
    "| z3          | $$z^{(3)}$$ | Layer 3 activation                 | (numExamples, outputLayerSize)     |\n",
    "| J          | $$J$$ | Cost                | (1, outputLayerSize)     |"
   ]
  },
  {
   "cell_type": "markdown",
   "metadata": {},
   "source": [
    "<h3> Cost function </h3>"
   ]
  },
  {
   "cell_type": "markdown",
   "metadata": {},
   "source": [
    "\\begin{equation}\n",
    " J = \\sum \\frac{1}{2}(j-\\hat{j})^2 \\tag{5}\\\\\n",
    "\\end{equation}"
   ]
  },
  {
   "cell_type": "code",
   "execution_count": 1,
   "metadata": {},
   "outputs": [
    {
     "name": "stdout",
     "output_type": "stream",
     "text": [
      "Populating the interactive namespace from numpy and matplotlib\n"
     ]
    }
   ],
   "source": [
    "%pylab inline\n",
    "\n",
    "#Import code from last time:\n",
    "from partTwo import *"
   ]
  },
  {
   "cell_type": "code",
   "execution_count": 30,
   "metadata": {},
   "outputs": [],
   "source": [
    "NN = NeuralNetwork()"
   ]
  },
  {
   "cell_type": "code",
   "execution_count": 31,
   "metadata": {},
   "outputs": [],
   "source": [
    "jHat = NN.forward(I)"
   ]
  },
  {
   "cell_type": "code",
   "execution_count": 32,
   "metadata": {},
   "outputs": [
    {
     "data": {
      "text/plain": [
       "array([[ 0.30622263],\n",
       "       [ 0.34698897],\n",
       "       [ 0.34120151]])"
      ]
     },
     "execution_count": 32,
     "metadata": {},
     "output_type": "execute_result"
    }
   ],
   "source": [
    "jHat"
   ]
  },
  {
   "cell_type": "code",
   "execution_count": 33,
   "metadata": {},
   "outputs": [
    {
     "data": {
      "text/plain": [
       "array([[ 0.75],\n",
       "       [ 0.82],\n",
       "       [ 0.93]])"
      ]
     },
     "execution_count": 33,
     "metadata": {},
     "output_type": "execute_result"
    }
   ],
   "source": [
    "j"
   ]
  },
  {
   "cell_type": "code",
   "execution_count": 34,
   "metadata": {},
   "outputs": [
    {
     "data": {
      "text/plain": [
       "<matplotlib.legend.Legend at 0x1064e37b8>"
      ]
     },
     "execution_count": 34,
     "metadata": {},
     "output_type": "execute_result"
    },
    {
     "data": {
      "image/png": "[encoded data removed]",
      "text/plain": [
       "<matplotlib.figure.Figure at 0x1064e3438>"
      ]
     },
     "metadata": {},
     "output_type": "display_data"
    }
   ],
   "source": [
    "#Compare estimate, yHat, to actually score\n",
    "bar([0,1,2], j, width = 0.35, alpha=0.8)\n",
    "bar([0.35,1.35,2.35],jHat, width = 0.35, color='r', alpha=0.8)\n",
    "grid(1)\n",
    "legend(['j', 'jHat'])"
   ]
  },
  {
   "cell_type": "markdown",
   "metadata": {},
   "source": [
    "<h3>Curse of dimensionality</h3>"
   ]
  },
  {
   "cell_type": "markdown",
   "metadata": {},
   "source": [
    "<p>We explain the idea as we would explain it to a child, let's imagine the kid will like to eat pizza, and he has a shop with pizza having a different shape, a different taste, a different combination of cheese, a different price. <br>\n",
    "   If the kid has to choose but only take into account one characteristic e.g the shape, then it has three circles, square, triangle, so the kid only has to try three pizzas to find what he likes most.<br>\n",
    "   If the kid likes the combination of shape and taste, and there are five different taste, then he already has to choose among 3X5 different types.<br>\n",
    "   If he wants the addition to take into account the combination of cheese of the cookies and there are seven different combinations then he will have to try 3X5X7 = 105 pizzas.<br>\n",
    "   We could go on, but after eating all these pizzas he might already have stomach pain.... before he can make his best choice Apart from the belly-ache, it can get really difficult to remember the differences in the taste of each pizza.<br>\n",
    "  As we can see things become more complicated as the number of dimensions increases, this holds for adults, for computers and also for kids.</p>\n",
    "       \n",
    "   "
   ]
  },
  {
   "cell_type": "markdown",
   "metadata": {},
   "source": [
    "<h4>For one weight</h4>"
   ]
  },
  {
   "cell_type": "code",
   "execution_count": 35,
   "metadata": {},
   "outputs": [],
   "source": [
    "import time\n",
    "\n",
    "weightsToTry = np.linspace(-5,5,1000)\n",
    "costs = np.zeros(1000)\n",
    "\n",
    "startTime = time.clock()\n",
    "for i in range(1000):\n",
    "    NN.W1[0,0] = weightsToTry[i]\n",
    "    jHat = NN.forward(I)\n",
    "    costs[i] = 0.5*sum((j-jHat)**2)\n",
    "    \n",
    "endTime = time.clock()"
   ]
  },
  {
   "cell_type": "code",
   "execution_count": 36,
   "metadata": {},
   "outputs": [],
   "source": [
    "timeElpased = endTime - startTime"
   ]
  },
  {
   "cell_type": "code",
   "execution_count": 37,
   "metadata": {},
   "outputs": [
    {
     "data": {
      "text/plain": [
       "0.03030400000000011"
      ]
     },
     "execution_count": 37,
     "metadata": {},
     "output_type": "execute_result"
    }
   ],
   "source": [
    "timeElpased "
   ]
  },
  {
   "cell_type": "code",
   "execution_count": 38,
   "metadata": {},
   "outputs": [
    {
     "data": {
      "text/plain": [
       "<matplotlib.text.Text at 0x10654ed68>"
      ]
     },
     "execution_count": 38,
     "metadata": {},
     "output_type": "execute_result"
    },
    {
     "data": {
      "image/png": "[encoded data removed]",
      "text/plain": [
       "<matplotlib.figure.Figure at 0x106523b70>"
      ]
     },
     "metadata": {},
     "output_type": "display_data"
    }
   ],
   "source": [
    "plot(weightsToTry, costs)\n",
    "grid(1)\n",
    "ylabel('Cost')\n",
    "xlabel('Weight')"
   ]
  },
  {
   "cell_type": "markdown",
   "metadata": {},
   "source": [
    "<h4>For two weights</h4>"
   ]
  },
  {
   "cell_type": "code",
   "execution_count": 42,
   "metadata": {},
   "outputs": [],
   "source": [
    "import time\n",
    "\n",
    "weightsToTry = np.linspace(-5,5,1000)\n",
    "costs = np.zeros((1000,1000))\n",
    "\n",
    "startTime = time.clock()\n",
    "for a in range(1000):\n",
    "    for b in range(1000):\n",
    "        NN.W1[0,0] = weightsToTry[a]\n",
    "        NN.W1[0,1] = weightsToTry[b]       \n",
    "        jHat = NN.forward(I)\n",
    "        costs[a,b] = 0.5*sum((j-jHat)**2)\n",
    "    \n",
    "endTime = time.clock()"
   ]
  },
  {
   "cell_type": "code",
   "execution_count": 43,
   "metadata": {},
   "outputs": [],
   "source": [
    "timeElpased = endTime - startTime"
   ]
  },
  {
   "cell_type": "code",
   "execution_count": 44,
   "metadata": {},
   "outputs": [
    {
     "data": {
      "text/plain": [
       "15.600603999999999"
      ]
     },
     "execution_count": 44,
     "metadata": {},
     "output_type": "execute_result"
    }
   ],
   "source": [
    "timeElpased"
   ]
  },
  {
   "cell_type": "markdown",
   "metadata": {},
   "source": [
    "<h4> Nine weights </h4>"
   ]
  },
  {
   "cell_type": "markdown",
   "metadata": {},
   "source": [
    "Searching through three weights would take a billion evaluations, or 11 hours! Searching through all 9 weights we need for our simple network would take 1,268,391,679,350,583.5 years."
   ]
  },
  {
   "cell_type": "code",
   "execution_count": 48,
   "metadata": {},
   "outputs": [
    {
     "data": {
      "text/plain": [
       "1.0147133434804668e-05"
      ]
     },
     "execution_count": 48,
     "metadata": {},
     "output_type": "execute_result"
    }
   ],
   "source": [
    "0.04*(1000*(9-1))/(3600*24*365)"
   ]
  },
  {
   "cell_type": "code",
   "execution_count": null,
   "metadata": {},
   "outputs": [],
   "source": []
  }
 ],
 "metadata": {
  "kernelspec": {
   "display_name": "Python 3",
   "language": "python",
   "name": "python3"
  },
  "language_info": {
   "codemirror_mode": {
    "name": "ipython",
    "version": 3
   },
   "file_extension": ".py",
   "mimetype": "text/x-python",
   "name": "python",
   "nbconvert_exporter": "python",
   "pygments_lexer": "ipython3",
   "version": "3.6.2"
  }
 },
 "nbformat": 4,
 "nbformat_minor": 2
}
