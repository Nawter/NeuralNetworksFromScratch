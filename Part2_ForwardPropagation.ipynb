{
 "cells": [
  {
   "cell_type": "markdown",
   "metadata": {},
   "source": [
    "| Code Symbol | Math Symbol | Definition                         | Dimensions                         |\n",
    "|-------------|-------------|------------------------------------|------------------------------------|\n",
    "| I           | $$I$$       | Input Data, each row in an example | (numExamples, inputLayerSize)      |\n",
    "| j           | $$j$$       | target data                        | (numExamples, outputLayerSize)     |\n",
    "| W1          | $$W^{(1)}$$ | Layer 1 weights                    | (inputLayerSize, hiddenLayerSize)  |\n",
    "| W2          | $$W^{(2)}$$ | Layer 2 weights                    | (hiddenLayerSize, outputLayerSize) |\n",
    "| z2          | $$z^{(2)}$$ | Layer 2 activation                 | (numExamples, hiddenLayerSize)     |\n",
    "| a2          | $$a^{(2)}$$ | Layer 2 activity                   | (numExamples, hiddenLayerSize)     |\n",
    "| z3          | $$z^{(3)}$$ | Layer 3 activation                 | (numExamples, outputLayerSize)     |\n"
   ]
  },
  {
   "cell_type": "code",
   "execution_count": 4,
   "metadata": {},
   "outputs": [
    {
     "name": "stdout",
     "output_type": "stream",
     "text": [
      "Populating the interactive namespace from numpy and matplotlib\n"
     ]
    }
   ],
   "source": [
    "#Import code from last time\n",
    "%pylab inline\n",
    "from partOne import *"
   ]
  },
  {
   "cell_type": "code",
   "execution_count": 12,
   "metadata": {},
   "outputs": [
    {
     "name": "stdout",
     "output_type": "stream",
     "text": [
      "(3, 2) (3, 1)\n"
     ]
    }
   ],
   "source": [
    "# Dimensions of the two matrices\n",
    "print(I.shape, j.shape)"
   ]
  },
  {
   "cell_type": "code",
   "execution_count": null,
   "metadata": {},
   "outputs": [],
   "source": [
    "class Neural_Network(object):\n",
    "    def __init__(self):        \n",
    "        #Define Hyperparameters\n",
    "        self.inputLayerSize = 2\n",
    "        self.outputLayerSize = 1\n",
    "        self.hiddenLayerSize = 3\n",
    "        \n",
    "    def forward(self, X):\n",
    "        #Propagate inputs though network"
   ]
  },
  {
   "cell_type": "code",
   "execution_count": 2,
   "metadata": {},
   "outputs": [],
   "source": [
    "#Apply hyperbolic tangent activation function to scalar, vector, or matrix\n",
    "def hyperbolicTangent(z):\n",
    "    return (1-np.exp(-2*z))/(1+np.exp(-2*z))\n"
   ]
  },
  {
   "cell_type": "code",
   "execution_count": 3,
   "metadata": {},
   "outputs": [],
   "source": [
    "#Apply sigmoid activation function to scalar, vector, or matrix\n",
    "def sigmoid(z):\n",
    "    return 1/(1+np.exp(-z))"
   ]
  },
  {
   "cell_type": "code",
   "execution_count": 7,
   "metadata": {},
   "outputs": [
    {
     "data": {
      "image/png": "[encoded data removed]",
      "text/plain": [
       "<matplotlib.figure.Figure at 0x109704fd0>"
      ]
     },
     "metadata": {},
     "output_type": "display_data"
    }
   ],
   "source": [
    "test = np.arange(-6,6,0.01)\n",
    "plot(test, hyperbolicTangent(test), linewidth = 3)\n",
    "grid(2)"
   ]
  },
  {
   "cell_type": "code",
   "execution_count": 12,
   "metadata": {
    "scrolled": true
   },
   "outputs": [
    {
     "data": {
      "image/png": "[encoded data removed]",
      "text/plain": [
       "<matplotlib.figure.Figure at 0x10f7d13c8>"
      ]
     },
     "metadata": {},
     "output_type": "display_data"
    }
   ],
   "source": [
    "test = np.arange(-6,6,0.01)\n",
    "plot(test, sigmoid(test), linewidth = 3)\n",
    "grid(2)"
   ]
  },
  {
   "cell_type": "code",
   "execution_count": 16,
   "metadata": {},
   "outputs": [
    {
     "data": {
      "text/plain": [
       "(0.88079707797788231, 0.96402758007581679)"
      ]
     },
     "execution_count": 16,
     "metadata": {},
     "output_type": "execute_result"
    }
   ],
   "source": [
    "sigmoid(2), hyperbolicTangent(2)"
   ]
  },
  {
   "cell_type": "code",
   "execution_count": 19,
   "metadata": {},
   "outputs": [
    {
     "data": {
      "text/plain": [
       "(array([ 0.11920292,  0.5       ,  0.88079708]),\n",
       " array([-0.96402758,  0.        ,  0.96402758]))"
      ]
     },
     "execution_count": 19,
     "metadata": {},
     "output_type": "execute_result"
    }
   ],
   "source": [
    "sigmoid(np.array([-2,0,2])), hyperbolicTangent(np.array([-2,0,2]))"
   ]
  },
  {
   "cell_type": "code",
   "execution_count": 20,
   "metadata": {},
   "outputs": [
    {
     "data": {
      "text/plain": [
       "(array([[ 0.35545753,  0.72783127,  0.20212135],\n",
       "        [ 0.2432948 ,  0.82385351,  0.41122158],\n",
       "        [ 0.57280643,  0.37728266,  0.59881065]]),\n",
       " array([[ 0.09093348, -0.09672729, -0.03395662],\n",
       "        [-0.23044255, -0.65983919,  0.07321362],\n",
       "        [-0.57918271,  0.94060527, -0.55163135]]))"
      ]
     },
     "execution_count": 20,
     "metadata": {},
     "output_type": "execute_result"
    }
   ],
   "source": [
    "sigmoid(np.random.randn(3,3)), hyperbolicTangent(np.random.randn(3,3))"
   ]
  },
  {
   "cell_type": "markdown",
   "metadata": {
    "raw_mimetype": "text/markdown"
   },
   "source": [
    "<h3>Forward propagation equations</h3>"
   ]
  },
  {
   "cell_type": "markdown",
   "metadata": {},
   "source": [
    "\\begin{equation}\n",
    "  z^{(2)} = I W^{(1)} \\\\ a^{(2)} = f(z^{(2)}) \\\\  \\hat{j} = f(z^{(3)})\n",
    "\\end{equation}"
   ]
  },
  {
   "cell_type": "code",
   "execution_count": 1,
   "metadata": {},
   "outputs": [],
   "source": [
    "class Neural_Network(object):\n",
    "    def __init__(self):        \n",
    "        #Define Hyperparameters\n",
    "        self.inputLayerSize = 2\n",
    "        self.outputLayerSize = 1\n",
    "        self.hiddenLayerSize = 3\n",
    "        \n",
    "        #Weights (parameters)\n",
    "        self.W1 = np.random.randn(self.inputLayerSize, self.hiddenLayerSize)\n",
    "        self.W2 = np.random.randn(self.hiddenLayerSize, self.outputLayerSize)    \n",
    "    #Propagate inputs though network            \n",
    "    def forward(self, I):\n",
    "        self.z2 = np.dot(I, self.W1)\n",
    "        self.a2 = self.hyperbolicTangent(self.z2)\n",
    "        self.z3 = np.dot(self.a2, self.W2)\n",
    "        jHat = self.hyperbolicTangent(self.z3) \n",
    "        return jHat\n",
    "    \n",
    "    def sigmoid(self, z):\n",
    "        #Apply sigmoid activation function to scalar, vector, or matrix\n",
    "        return 1/(1+np.exp(-z))"
   ]
  },
  {
   "cell_type": "code",
   "execution_count": null,
   "metadata": {},
   "outputs": [],
   "source": []
  }
 ],
 "metadata": {
  "celltoolbar": "Raw Cell Format",
  "kernelspec": {
   "display_name": "Python 3",
   "language": "python",
   "name": "python3"
  },
  "language_info": {
   "codemirror_mode": {
    "name": "ipython",
    "version": 3
   },
   "file_extension": ".py",
   "mimetype": "text/x-python",
   "name": "python",
   "nbconvert_exporter": "python",
   "pygments_lexer": "ipython3",
   "version": "3.6.2"
  }
 },
 "nbformat": 4,
 "nbformat_minor": 2
}
