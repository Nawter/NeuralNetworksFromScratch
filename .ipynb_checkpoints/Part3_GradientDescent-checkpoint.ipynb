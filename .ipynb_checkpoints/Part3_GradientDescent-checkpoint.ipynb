{
 "cells": [
  {
   "cell_type": "markdown",
   "metadata": {},
   "source": [
    "| Code Symbol | Math Symbol | Definition                         | Dimensions                         |\n",
    "|-------------|-------------|------------------------------------|------------------------------------|\n",
    "| I           | $$I$$       | Input Data, each row in an example | (numExamples, inputLayerSize)      |\n",
    "| j           | $$j$$       | target data                        | (numExamples, outputLayerSize)     |\n",
    "| W1          | $$W^{(1)}$$ | Layer 1 weights                    | (inputLayerSize, hiddenLayerSize)  |\n",
    "| W2          | $$W^{(2)}$$ | Layer 2 weights                    | (hiddenLayerSize, outputLayerSize) |\n",
    "| z2          | $$z^{(2)}$$ | Layer 2 activation                 | (numExamples, hiddenLayerSize)     |\n",
    "| a2          | $$a^{(2)}$$ | Layer 2 activity                   | (numExamples, hiddenLayerSize)     |\n",
    "| z3          | $$z^{(3)}$$ | Layer 3 activation                 | (numExamples, outputLayerSize)     |\n",
    "| J          | $$J$$ | Cost                | (1, outputLayerSize)     |"
   ]
  },
  {
   "cell_type": "code",
   "execution_count": 1,
   "metadata": {},
   "outputs": [
    {
     "name": "stdout",
     "output_type": "stream",
     "text": [
      "Populating the interactive namespace from numpy and matplotlib\n"
     ]
    }
   ],
   "source": [
    "%pylab inline\n",
    "\n",
    "#Import code from last time:\n",
    "from partTwo import *"
   ]
  },
  {
   "cell_type": "code",
   "execution_count": 2,
   "metadata": {},
   "outputs": [],
   "source": [
    "NN = NeuralNetwork()"
   ]
  },
  {
   "cell_type": "code",
   "execution_count": 3,
   "metadata": {},
   "outputs": [],
   "source": [
    "jHat = NN.forward(I)"
   ]
  },
  {
   "cell_type": "code",
   "execution_count": 4,
   "metadata": {},
   "outputs": [
    {
     "data": {
      "text/plain": [
       "array([[ 0.43734968],\n",
       "       [ 0.46449262],\n",
       "       [ 0.46634713]])"
      ]
     },
     "execution_count": 4,
     "metadata": {},
     "output_type": "execute_result"
    }
   ],
   "source": [
    "jHat"
   ]
  },
  {
   "cell_type": "code",
   "execution_count": 5,
   "metadata": {},
   "outputs": [
    {
     "data": {
      "text/plain": [
       "array([[ 0.75],\n",
       "       [ 0.82],\n",
       "       [ 0.93]])"
      ]
     },
     "execution_count": 5,
     "metadata": {},
     "output_type": "execute_result"
    }
   ],
   "source": [
    "j"
   ]
  },
  {
   "cell_type": "code",
   "execution_count": 6,
   "metadata": {},
   "outputs": [
    {
     "data": {
      "text/plain": [
       "<matplotlib.legend.Legend at 0x10e7462e8>"
      ]
     },
     "execution_count": 6,
     "metadata": {},
     "output_type": "execute_result"
    },
    {
     "data": {
      "image/png": "[encoded data removed]",
      "text/plain": [
       "<matplotlib.figure.Figure at 0x10e746320>"
      ]
     },
     "metadata": {},
     "output_type": "display_data"
    }
   ],
   "source": [
    "#Compare estimate, yHat, to actually score\n",
    "bar([0,1,2], j, width = 0.35, alpha=0.8)\n",
    "bar([0.35,1.35,2.35],jHat, width = 0.35, color='r', alpha=0.8)\n",
    "grid(1)\n",
    "legend(['j', 'jHat'])"
   ]
  },
  {
   "cell_type": "code",
   "execution_count": null,
   "metadata": {},
   "outputs": [],
   "source": []
  }
 ],
 "metadata": {
  "kernelspec": {
   "display_name": "Python 3",
   "language": "python",
   "name": "python3"
  },
  "language_info": {
   "codemirror_mode": {
    "name": "ipython",
    "version": 3
   },
   "file_extension": ".py",
   "mimetype": "text/x-python",
   "name": "python",
   "nbconvert_exporter": "python",
   "pygments_lexer": "ipython3",
   "version": "3.6.2"
  }
 },
 "nbformat": 4,
 "nbformat_minor": 2
}
