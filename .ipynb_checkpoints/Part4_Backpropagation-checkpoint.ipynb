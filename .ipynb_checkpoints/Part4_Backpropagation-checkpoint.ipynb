{
 "cells": [
  {
   "cell_type": "markdown",
   "metadata": {},
   "source": [
    "| Code Symbol | Math Symbol | Definition                         | Dimensions                         |\n",
    "|-------------|-------------|------------------------------------|------------------------------------|\n",
    "| I           | $$I$$       | Input Data, each row in an example | (numExamples, inputLayerSize)      |\n",
    "| j           | $$j$$       | target data                        | (numExamples, outputLayerSize)     |\n",
    "| W1          | $$W^{(1)}$$ | Layer 1 weights                    | (inputLayerSize, hiddenLayerSize)  |\n",
    "| W2          | $$W^{(2)}$$ | Layer 2 weights                    | (hiddenLayerSize, outputLayerSize) |\n",
    "| z2          | $$z^{(2)}$$ | Layer 2 activation                 | (numExamples, hiddenLayerSize)     |\n",
    "| a2          | $$a^{(2)}$$ | Layer 2 activity                   | (numExamples, hiddenLayerSize)     |\n",
    "| z3          | $$z^{(3)}$$ | Layer 3 activation                 | (numExamples, outputLayerSize)     |\n",
    "| J          | $$J$$ | Cost               | (1, outputLayerSize)     |\n",
    "| dJdz3      | $$ \\delta^{(3)} =\\frac{\\partial J}{\\partial z^{(3)} } $$ | Partial derivative of cost with respect to $z^{(3)}$              | (numExamples, outputLayerSize)     |\n",
    "| dJdW2      | $$ \\frac{\\partial J}{\\partial W^{(2)} } $$ | Partial derivative of cost with respect to $W^{(2)}$              | (hiddenLayerSize, outputLayerSize)     |\n",
    "| dz3dz2      | $$ \\frac{\\partial z^{(3)}}{\\partial z^{(2)} } $$ | Partial derivative of $z^{(3)}$ with respect to $z^{(2)}$              | (numExamples, outputLayerSize)     |\n",
    "| dJdW1      | $$ \\frac{\\partial J }{\\partial W^{(1)} } $$ | Partial derivative of cost with respect to $W^{(1)}$              |  \t(inputLayerSize, hiddenLayerSize)     |\n",
    "| delta2      |$$\\delta^{(2)}$$ | Backpropagating Error 2              |  \t(numExamples,hiddenLayerSize)    |\n",
    "| delta3      | $$\\delta^{(3)}$$ | Backpropagating Error 1              |  (numExamples,outputLayerSize)     |"
   ]
  },
  {
   "cell_type": "markdown",
   "metadata": {},
   "source": [
    "Our weights, W, are spread across two matrices, W1 and W2. We’ll separate our dJ/dW computation in the same way, by computing dJdW1 and dJdW2 independently. We should have just as many gradient values as weight values, so when we’re done, our matrices dJdW1 and dJdW2 will be the same size as W1 and W2."
   ]
  },
  {
   "cell_type": "markdown",
   "metadata": {},
   "source": [
    "Let’s work on dJdW2 first."
   ]
  },
  {
   "cell_type": "markdown",
   "metadata": {},
   "source": [
    "\\begin{equation}\n",
    "\\frac{\\partial J}{\\partial W^{(2)}} =\\frac{\\partial \\sum \\frac{1}{2}(j-\\hat{j})^2}{\\partial W^{(2)}}\n",
    "\\end{equation}"
   ]
  },
  {
   "cell_type": "markdown",
   "metadata": {},
   "source": [
    "We’ll take advantage of the sum rule in differentiation, which says that the derivative of the sums equals the sum of the derivatives. We can move our sigma outside and just worry about the derivative of the inside expression first."
   ]
  },
  {
   "cell_type": "markdown",
   "metadata": {},
   "source": [
    "\\begin{equation}\n",
    "\\frac{\\partial J}{\\partial W^{(2)}} = \\sum \\frac{\\partial \\frac{1}{2}(j-\\hat{j})^2}{\\partial W^{(2)}}\n",
    "\\end{equation}"
   ]
  },
  {
   "cell_type": "markdown",
   "metadata": {},
   "source": [
    "To keep things simple, we’ll temporarily forget about our summation. Once we’ve computed \\begin{equation}\\frac{\\partial J}{\\partial W^{(2)}}\\end{equation} for a single example, we’ll add all our individual derivative terms together.\n",
    "\n",
    "We can now evaluate our derivative. The power rule tells us to bring down our exponent, 2, and multiply. To finish our derivative, we’ll need to apply the chain rule.\n",
    "\n",
    "The chain rule tells us how to take the derivative of a function inside of a function, and generally says we take the derivative of the outside function and then multiply it by the derivative of the inside function.\n",
    "\n",
    "One way to express the chain rule is as the product of derivatives, this will come in very handy as we progress through backpropagation. In fact, a better name for backpropagation might be: don’t stop doing the chain rule. ever.\n",
    "\n",
    "We’ve taken the derivative of the outside of our cost function - now we need to multiply it by the derivative of the inside.\n",
    "\n",
    "j is just our test scores, which won’t change, so the derivative of j, a constant, with respect to W two is 0! jHat, on the other hand, does change with respect to W two, so we’ll apply the chain rule and multiply our results by  \\begin{equation}-\\frac{\\partial \\hat{j}}{\\partial W^{(2)}}\\end{equation}\n"
   ]
  },
  {
   "cell_type": "markdown",
   "metadata": {},
   "source": [
    "\\begin{equation} \\frac{\\partial J}{\\partial W^{(2)}} = -(j-\\hat{j}) \\frac{\\partial \\hat{j}}{\\partial W^{(2)}}\n",
    "\\end{equation}"
   ]
  },
  {
   "cell_type": "markdown",
   "metadata": {},
   "source": [
    "We now need to think about the derivative of jHat with respect to W2. Equation 3 tells us that jHat is our activation function of z3, \n",
    "\\begin{equation}\\hat{j} = f(z^{(3)})\\end{equation} <br>\n",
    "so we it will be helpful to apply the chain rule again to break djHat/dW2 into djHat/dz3 times dz3/dW2."
   ]
  },
  {
   "cell_type": "markdown",
   "metadata": {},
   "source": [
    "\\begin{equation} \n",
    "\\frac{\\partial J}{\\partial W^{(2)}} = -(j-\\hat{j})\\frac{\\partial \\hat{j}}{\\partial z^{(3)}} \\frac{\\partial z^{(3)}}{\\partial W^{(2)}}\n",
    "\\end{equation}"
   ]
  },
  {
   "cell_type": "markdown",
   "metadata": {},
   "source": [
    "\\begin{equation} f(z) = \\frac{1}{1 +  e^{-z}} \\end{equation}"
   ]
  },
  {
   "cell_type": "markdown",
   "metadata": {},
   "source": [
    "\\begin{equation} f^\\prime(z) = \\frac{e^{-z}}{(1 + e^{-z})^2} \\end{equation}"
   ]
  },
  {
   "cell_type": "markdown",
   "metadata": {},
   "source": [
    "\\begin{equation}\n",
    "\\frac{\\partial J}{\\partial W^{(2)}} = -(j-\\hat{j}) f^\\prime(z^{(3)}) \\frac{\\partial z^{(3)}}{\\partial W^{(2)}}\n",
    "\\end{equation}"
   ]
  },
  {
   "cell_type": "markdown",
   "metadata": {},
   "source": [
    "\\begin{equation} z^{(3)} = a^{(2)}W^{(2)} \\\\ \\end{equation}"
   ]
  },
  {
   "cell_type": "markdown",
   "metadata": {},
   "source": [
    "\\begin{equation} \\frac{\\partial J}{\\partial W^{(2)}} = (a^{(2)})^T\\delta^{(3)} \\end{equation}"
   ]
  },
  {
   "cell_type": "markdown",
   "metadata": {},
   "source": [
    "\\begin{equation} \\delta^{(3)} = -(j-\\hat{j}) f^\\prime(z^{(3)}) \\end{equation}"
   ]
  },
  {
   "cell_type": "code",
   "execution_count": 7,
   "metadata": {},
   "outputs": [
    {
     "name": "stdout",
     "output_type": "stream",
     "text": [
      "Populating the interactive namespace from numpy and matplotlib\n"
     ]
    }
   ],
   "source": [
    "%pylab inline\n",
    "#Import code from last time\n",
    "from partThree import *"
   ]
  },
  {
   "cell_type": "code",
   "execution_count": 8,
   "metadata": {},
   "outputs": [],
   "source": [
    "#Apply sigmoid activation function to scalar, vector, or matrix\n",
    "def sigmoid(z):     \n",
    "    return 1/(1+np.exp(-z))"
   ]
  },
  {
   "cell_type": "code",
   "execution_count": 9,
   "metadata": {},
   "outputs": [],
   "source": [
    "#Derivative of sigmoid function\n",
    "def sigmoidPrime(z):    \n",
    "    return np.exp(-z)/((1+np.exp(-z))**2)"
   ]
  },
  {
   "cell_type": "code",
   "execution_count": 10,
   "metadata": {
    "scrolled": true
   },
   "outputs": [
    {
     "data": {
      "text/plain": [
       "<matplotlib.legend.Legend at 0x1070d7780>"
      ]
     },
     "execution_count": 10,
     "metadata": {},
     "output_type": "execute_result"
    },
    {
     "data": {
      "image/png": "[encoded data removed]",
      "text/plain": [
       "<matplotlib.figure.Figure at 0x1070574e0>"
      ]
     },
     "metadata": {},
     "output_type": "display_data"
    }
   ],
   "source": [
    "testValues = np.arange(-5,5,0.01)\n",
    "plot(testValues, sigmoid(testValues), linewidth=3)\n",
    "plot(testValues, sigmoidPrime(testValues), linewidth=3)\n",
    "grid(1)\n",
    "legend(['sigmoid', 'sigmoidPrime'])"
   ]
  },
  {
   "cell_type": "markdown",
   "metadata": {},
   "source": [
    "We’ll code up our gradients in python in a new method, cost function prime. Numpy’s multiply method performs element-wise multiplication, and the dot method performs matrix multiplication."
   ]
  },
  {
   "cell_type": "code",
   "execution_count": 11,
   "metadata": {},
   "outputs": [],
   "source": [
    "# Part of NN Class (won't work alone, needs to be included in class as \n",
    "# shown in below and in partThree.py):\n",
    "\n",
    "def costFunctionPrime(self, I, j):\n",
    "    #Compute derivative with respect to W and W2 for a given I and j:\n",
    "    self.jHat = self.forward(I)\n",
    "\n",
    "    delta3 = np.multiply(-(j-self.jHat), self.sigmoidPrime(self.z3))\n",
    "    dJdW2 = np.dot(self.a2.T, delta3)"
   ]
  },
  {
   "cell_type": "code",
   "execution_count": 17,
   "metadata": {},
   "outputs": [],
   "source": [
    "class NeuralNetwork(object):\n",
    "    def __init__(self):\n",
    "        #Define Hyperparameters\n",
    "        self.inputLayerSize = 2\n",
    "        self.outputLayerSize = 1\n",
    "        self.hiddenLayerSize = 3\n",
    "        #Weights(parameters)\n",
    "        self.W1 = np.random.randn(self.inputLayerSize, self.hiddenLayerSize)\n",
    "        self.W2 = np.random.randn(self.hiddenLayerSize, self.outputLayerSize)\n",
    "\n",
    "    def forward(self, I):\n",
    "        #Propagate inputs through network\n",
    "        self.z2 = np.dot(I, self.W1)\n",
    "        self.a2 = self.sigmoid(self.z2)\n",
    "        self.z3 = np.dot(self.a2, self.W2)\n",
    "        jHat = self.sigmoid(self.z3)\n",
    "        return jHat\n",
    "\n",
    "    def sigmoid(self, z):\n",
    "        #Apply sigmoid activation function to scalar, vector, or matrix\n",
    "        return 1/(1+np.exp(-z))\n",
    "## --------------------- Part 3 --------------------\n",
    "    #Gradient of sigmoid\n",
    "    def sigmoidPrime(self,z):\n",
    "        return np.exp(-z)/((1+np.exp(-z))**2)\n",
    "\n",
    "    #Compute cost for given I,j, use weights already stored in class.\n",
    "    def costFunction(self, I, j):\n",
    "        self.jHat = self.forward(I)\n",
    "        J = 0.5*sum((j-self.jHat)**2)\n",
    "        return J\n",
    "\n",
    "    #Compute derivative with respect to W1 and W2 for a given I and j:\n",
    "    def costFunctionPrime(self, I, j):\n",
    "        self.jHat = self.forward(I)\n",
    "        delta3 = np.multiply(-(j-self.jHat), self.sigmoidPrime(self.z3))\n",
    "        dJdW2 = np.dot(self.a2.T, delta3)\n",
    "\n",
    "        delta2 = np.dot(delta3, self.W2.T)*self.sigmoidPrime(self.z2)\n",
    "        dJdW1 = np.dot(I.T, delta2)\n",
    "\n",
    "        return dJdW1, dJW2"
   ]
  },
  {
   "cell_type": "markdown",
   "metadata": {},
   "source": [
    "So how should we change our W’s to decrease our cost? We can now compute dJ/dW, which tells us which way is uphill in our 9 dimensional optimization space."
   ]
  },
  {
   "cell_type": "code",
   "execution_count": 18,
   "metadata": {},
   "outputs": [],
   "source": [
    "NN = NeuralNetwork()"
   ]
  },
  {
   "cell_type": "code",
   "execution_count": 19,
   "metadata": {},
   "outputs": [],
   "source": [
    "cost1 = NN.costFunction(I,j)"
   ]
  },
  {
   "cell_type": "code",
   "execution_count": 20,
   "metadata": {
    "scrolled": true
   },
   "outputs": [
    {
     "ename": "NameError",
     "evalue": "name 'dJW2' is not defined",
     "output_type": "error",
     "traceback": [
      "\u001b[0;31m---------------------------------------------------------------------------\u001b[0m",
      "\u001b[0;31mNameError\u001b[0m                                 Traceback (most recent call last)",
      "\u001b[0;32m<ipython-input-20-80030cec061a>\u001b[0m in \u001b[0;36m<module>\u001b[0;34m()\u001b[0m\n\u001b[0;32m----> 1\u001b[0;31m \u001b[0mdJdW1\u001b[0m\u001b[0;34m,\u001b[0m \u001b[0mdJdW2\u001b[0m \u001b[0;34m=\u001b[0m \u001b[0mNN\u001b[0m\u001b[0;34m.\u001b[0m\u001b[0mcostFunctionPrime\u001b[0m\u001b[0;34m(\u001b[0m\u001b[0mI\u001b[0m\u001b[0;34m,\u001b[0m\u001b[0mj\u001b[0m\u001b[0;34m)\u001b[0m\u001b[0;34m\u001b[0m\u001b[0m\n\u001b[0m",
      "\u001b[0;32m<ipython-input-17-59182d60a74b>\u001b[0m in \u001b[0;36mcostFunctionPrime\u001b[0;34m(self, I, j)\u001b[0m\n\u001b[1;32m     40\u001b[0m         \u001b[0mdJdW1\u001b[0m \u001b[0;34m=\u001b[0m \u001b[0mnp\u001b[0m\u001b[0;34m.\u001b[0m\u001b[0mdot\u001b[0m\u001b[0;34m(\u001b[0m\u001b[0mI\u001b[0m\u001b[0;34m.\u001b[0m\u001b[0mT\u001b[0m\u001b[0;34m,\u001b[0m \u001b[0mdelta2\u001b[0m\u001b[0;34m)\u001b[0m\u001b[0;34m\u001b[0m\u001b[0m\n\u001b[1;32m     41\u001b[0m \u001b[0;34m\u001b[0m\u001b[0m\n\u001b[0;32m---> 42\u001b[0;31m         \u001b[0;32mreturn\u001b[0m \u001b[0mdJdW1\u001b[0m\u001b[0;34m,\u001b[0m \u001b[0mdJW2\u001b[0m\u001b[0;34m\u001b[0m\u001b[0m\n\u001b[0m",
      "\u001b[0;31mNameError\u001b[0m: name 'dJW2' is not defined"
     ]
    }
   ],
   "source": [
    "dJdW1, dJdW2 = NN.costFunctionPrime(I,j)"
   ]
  },
  {
   "cell_type": "code",
   "execution_count": null,
   "metadata": {},
   "outputs": [],
   "source": []
  }
 ],
 "metadata": {
  "kernelspec": {
   "display_name": "Python 3",
   "language": "python",
   "name": "python3"
  },
  "language_info": {
   "codemirror_mode": {
    "name": "ipython",
    "version": 3
   },
   "file_extension": ".py",
   "mimetype": "text/x-python",
   "name": "python",
   "nbconvert_exporter": "python",
   "pygments_lexer": "ipython3",
   "version": "3.6.2"
  }
 },
 "nbformat": 4,
 "nbformat_minor": 2
}
